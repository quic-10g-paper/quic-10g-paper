{
 "cells": [
  {
   "cell_type": "code",
   "execution_count": null,
   "metadata": {},
   "outputs": [],
   "source": [
    "%run ../Helper/Setup.ipynb"
   ]
  },
  {
   "cell_type": "code",
   "execution_count": null,
   "metadata": {},
   "outputs": [],
   "source": [
    "def import_csv(file, group=True):\n",
    "    df = pd.read_csv(file)\n",
    "    \n",
    "    if group:\n",
    "        df = group_data(df)\n",
    "    \n",
    "    df = df[~np.isnan(df.goodput)]\n",
    "    \n",
    "    return df\n",
    "\n",
    "def group_data(df):\n",
    "    filtered = df.groupby(by=['server', 'client'], as_index=False).agg({'goodput': ['mean', 'std'], 'repetition': 'count'})\n",
    "    filtered.columns = list(map(''.join, filtered.columns.values))\n",
    "    return filtered"
   ]
  },
  {
   "cell_type": "code",
   "execution_count": null,
   "metadata": {},
   "outputs": [],
   "source": [
    "def extend_perf_client(x):\n",
    "    columns = {}\n",
    "    result = json.loads(x.replace(\"'\", '\"'))\n",
    "    # sum_samples = result[\"SUM_SAMPLES_QUIC\"]\n",
    "    sum_samples = result[\"SUM_SAMPLES\"]\n",
    "\n",
    "    for key in result[\"OVERVIEW\"].keys():\n",
    "        # print(f\"{key}: {result['OVERVIEW'][key]/sum_samples}\")\n",
    "        columns[\"client_\"+key] = result['OVERVIEW'][key]/sum_samples*100\n",
    "        #columns[\"client_\"+key] = result['OVERVIEW'][key]\n",
    "    return pd.Series(columns)\n",
    "        \n",
    "def extend_perf_server(x):\n",
    "    columns = {}\n",
    "    result = json.loads(x.replace(\"'\", '\"'))\n",
    "    # sum_samples = result[\"SUM_SAMPLES_QUIC\"]\n",
    "    sum_samples = result[\"SUM_SAMPLES\"]\n",
    "\n",
    "\n",
    "    for key in result[\"OVERVIEW\"].keys():\n",
    "        # print(f\"{key}: {result['OVERVIEW'][key]/sum_samples}\")\n",
    "        columns[\"server_\"+key] = result['OVERVIEW'][key]/sum_samples*100\n",
    "        # columns[\"server_\"+key] = result['OVERVIEW'][key]\n",
    "    return pd.Series(columns)"
   ]
  },
  {
   "cell_type": "code",
   "execution_count": null,
   "metadata": {},
   "outputs": [],
   "source": [
    "def plot_perf(df, host):\n",
    "    implementations = pd.unique(df[['server', 'client']].values.ravel('K'))\n",
    "    categories = ['Uncategorized', 'Packet I/O', 'I/O', 'Crypto', 'Conn. Mgmt',]\n",
    "    categories_data = ['GENERAL', 'PACKET_IO', 'IO', 'CRYPTO', 'CONN_MGMT',]\n",
    "\n",
    "    lable = [host + \"_\" + x for x in categories_data]\n",
    "    \n",
    "    implementation_order = {\n",
    "        'lsquic': 1,\n",
    "        'quiche': 2,\n",
    "    }\n",
    "    \n",
    "    implementations = sorted(implementations, key=lambda x: implementation_order.get(x, 1000))\n",
    "    \n",
    "    implementation_names = {\n",
    "        'lsquic': 'LSQUIC',\n",
    "        'quiche': 'quiche'\n",
    "    }\n",
    "\n",
    "        \n",
    "    colors = [ColorDarkerBlue, ColorGreen, ColorRed]\n",
    "    \n",
    "    width, height = set_size('single')\n",
    "    \n",
    "    fig, ax1 = plt.subplots(figsize=(width, height*0.8))\n",
    "    \n",
    "    width = 0.3      \n",
    "    \n",
    "    N = len(lable)\n",
    "    ind = np.arange(N)  # the x locations for the groups\n",
    "    width = 0.35       # the width of the bars\n",
    "\n",
    "    \n",
    "    i = 0\n",
    "    for idx, imp in enumerate(implementations):    \n",
    "        to_plot = df.groupby(by=[\"server\", \"client\"],as_index=False)[lable].median()\n",
    "        d = to_plot.loc[(to_plot.server == imp) & (to_plot.client == imp)]\n",
    "        d = d[lable].to_numpy()\n",
    "        bp1 = ax1.bar(ind+i*width, d[0], width, color=colors[idx])\n",
    "        i += 1\n",
    "    \n",
    "    ax1.set_xticks(ind + width / 2, )\n",
    "    ax1.set_xticklabels(categories,rotation=15,ha='center')\n",
    "    ax1.autoscale()\n",
    "        \n",
    "    ax1.set_xlabel(f\"Categories {host}\")\n",
    "    ax1.set_ylabel('Samples (\\%)')\n",
    "    ax1.set_ylim(0, 80)\n",
    "    #ax1.set_xscale('log')\n",
    "\n",
    "    \n",
    "    legend_elements = [\n",
    "        Patch(facecolor=colors[i], edgecolor=colors[i], label=implementation_names[imp])\n",
    "        for i, imp in enumerate(implementations)\n",
    "    ]\n",
    "    \n",
    "    \n",
    "    ax1.legend(handles=legend_elements, loc=\"upper right\", facecolor='white', framealpha=1, ncol=1)\n",
    "    fig.tight_layout()\n",
    "    \n",
    "    return fig, ax1\n"
   ]
  },
  {
   "cell_type": "code",
   "execution_count": null,
   "metadata": {},
   "outputs": [],
   "source": [
    "perf_mixed = import_csv('../../results/perf/goracle/optimized/processed.csv', group=False)"
   ]
  },
  {
   "cell_type": "code",
   "execution_count": null,
   "metadata": {},
   "outputs": [],
   "source": [
    "perf_mixed = perf_mixed.merge(perf_mixed.client_perf.apply(extend_perf_client), left_index=True, right_index=True)\n",
    "perf_mixed = perf_mixed.merge(perf_mixed.server_perf.apply(extend_perf_server), left_index=True, right_index=True)"
   ]
  },
  {
   "cell_type": "code",
   "execution_count": null,
   "metadata": {},
   "outputs": [],
   "source": [
    "fig, ax = plot_perf(perf_mixed, \"server\")\n",
    "ax.set_xlabel(None)\n",
    "fig.savefig('perf_categories.pdf')"
   ]
  },
  {
   "cell_type": "code",
   "execution_count": null,
   "metadata": {},
   "outputs": [],
   "source": [
    "plot_perf(perf_mixed, \"client\")"
   ]
  }
 ],
 "metadata": {
  "kernelspec": {
   "display_name": "Python 3",
   "language": "python",
   "name": "python3"
  },
  "language_info": {
   "codemirror_mode": {
    "name": "ipython",
    "version": 3
   },
   "file_extension": ".py",
   "mimetype": "text/x-python",
   "name": "python",
   "nbconvert_exporter": "python",
   "pygments_lexer": "ipython3",
   "version": "3.9.16"
  }
 },
 "nbformat": 4,
 "nbformat_minor": 4
}
