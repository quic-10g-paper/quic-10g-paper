{
 "cells": [
  {
   "cell_type": "code",
   "execution_count": null,
   "metadata": {},
   "outputs": [],
   "source": [
    "%run ../Helper/Setup.ipynb"
   ]
  },
  {
   "cell_type": "code",
   "execution_count": null,
   "metadata": {},
   "outputs": [],
   "source": [
    "def import_data(path):\n",
    "    df = pd.read_csv(path)\n",
    "    return df"
   ]
  },
  {
   "cell_type": "code",
   "execution_count": null,
   "metadata": {},
   "outputs": [],
   "source": [
    "aes_ni = import_data('../../results/crypto/aes-ni/processed.csv')\n",
    "aes_noni = import_data('../../results/crypto/aes-noni/processed.csv')\n",
    "chacha20 = import_data('../../results/crypto/chacha20/processed.csv')"
   ]
  },
  {
   "cell_type": "code",
   "execution_count": null,
   "metadata": {
    "scrolled": true
   },
   "outputs": [],
   "source": [
    "aes_noni['crypto'] = 'aes-noni'\n",
    "aes_ni['crypto'] = 'aes-ni'\n",
    "chacha20['crypto'] = 'chacha'\n",
    "\n",
    "cryptos = {\n",
    "    'aes-noni': aes_noni,\n",
    "    'aes-ni': aes_ni,\n",
    "    'chacha': chacha20\n",
    "}\n",
    "\n",
    "for k, df in cryptos.items():\n",
    "    df['server'] = df['server'].apply(lambda x: x.rstrip('-aes'))\n",
    "    df['client'] = df['client'].apply(lambda x: x.rstrip('-aes'))\n",
    "\n",
    "data = pd.concat(cryptos.values(), ignore_index=True)"
   ]
  },
  {
   "cell_type": "code",
   "execution_count": null,
   "metadata": {},
   "outputs": [],
   "source": [
    "def plot_goodput(df):\n",
    "\n",
    "    implementations = pd.unique(df[['server', 'client']].values.ravel('K'))\n",
    "    ciphers = df.crypto.unique()\n",
    "\n",
    "    implementation_order = {\n",
    "        'lsquic': 1,\n",
    "        'quiche': 2,\n",
    "        'quich': 2,\n",
    "        'tcp-tls': 3,\n",
    "        'tls1.3': 4,\n",
    "    }\n",
    "    \n",
    "    implementations = sorted(implementations, key=lambda x: implementation_order.get(x, 1000))\n",
    "    print(df.groupby(by=['server', 'crypto'], as_index=False).agg({'goodput': ['mean', 'std']}))\n",
    "\n",
    "    \n",
    "    cipher_names = {\n",
    "        'aes-noni': \"AES w/o\",\n",
    "        'aes-ni': \"AES-NI\",\n",
    "        'chacha': \"ChaCha20\"\n",
    "    }\n",
    "    \n",
    "    implementation_names = {\n",
    "        'lsquic': 'LSQUIC',\n",
    "        'quiche': 'quiche',\n",
    "        'quich': 'quiche',\n",
    "        'tls1.3': 'TCP/TLS',\n",
    "    }\n",
    "        \n",
    "    colors = [ColorDarkerBlue, ColorGreen, ColorRed]\n",
    "    patterns = [\" \"] * len(colors)\n",
    "    linestyles = ['-'] * len(colors)\n",
    "    markers = ['^', 'o', 's']\n",
    "    \n",
    "    def style(i):\n",
    "        return {\n",
    "            #\"boxprops\": dict(facecolor=c, color=c),\n",
    "            \"showmeans\": True,\n",
    "            \"boxprops\": dict(color=colors[i], linestyle=linestyles[i], facecolor=\"white\"),\n",
    "            \"capprops\": dict(color=colors[i], alpha=0),\n",
    "            \"whiskerprops\": dict(alpha=0),\n",
    "            \"flierprops\": dict(color=colors[i], markeredgecolor=colors[i]),\n",
    "            #\"medianprops\": dict(color=c),\n",
    "            #\"meanprops\": dict(color=c),\n",
    "            \"medianprops\": dict(color=colors[i]),\n",
    "            \"meanprops\": dict(markerfacecolor=colors[i], markeredgecolor=colors[i], marker=markers[i]),\n",
    "            \"whis\": [5,95],\n",
    "            \"showfliers\": False,\n",
    "            \"widths\": .22,\n",
    "            \"positions\": [x - 0.3 + 0.3 * i for x in range(len(ciphers))],\n",
    "            \"patch_artist\": True,\n",
    "        }\n",
    "    \n",
    "    width, height = set_size('single')\n",
    "    \n",
    "    fig, ax1 = plt.subplots(figsize=(width, height*0.8))\n",
    "    plot_shades(ciphers, ax1, 0.5)\n",
    "    \n",
    "    for idx, imp in enumerate(implementations):\n",
    "        \n",
    "        d = df.loc[(df.server == imp) & (df.client == imp)]\n",
    "        bp1 = ax1.boxplot([d[d.crypto == c].goodput for c in ciphers], labels=ciphers,\n",
    "            #hatch=patterns[0],\n",
    "            **style(idx),\n",
    "           )\n",
    "    \n",
    "    ax1.autoscale()\n",
    "    \n",
    "    ax1.set(xticks=range(len(ciphers)), xticklabels=[cipher_names[c] for c in ciphers])\n",
    "    \n",
    "    ax1.set_ylabel('Goodput [Gbit/s]')\n",
    "    ax1.set_ylim(0, 9000)\n",
    "    \n",
    "    mkfunc = lambda x, pos: f'{(x * 1e-3):.0f}'\n",
    "    mkformatter = matplotlib.ticker.FuncFormatter(mkfunc)\n",
    "    ax1.yaxis.set_major_formatter(mkformatter)\n",
    "    \n",
    "    legend_elements = [\n",
    "        #Patch(facecolor='white', edgecolor=colors[i], linestyle=linestyles[i], label=implementation_names[imp])\n",
    "        mlines.Line2D([], [], color=colors[i], marker=markers[i], linestyle='None', label=implementation_names[imp])\n",
    "        for i, imp in enumerate(implementations)\n",
    "    ]\n",
    "    \n",
    "    ax1.legend(handles=legend_elements, loc=\"upper left\", facecolor='white', framealpha=1, ncol=1)\n",
    "    fig.tight_layout()\n",
    "    fig.savefig('crypto.pdf')\n",
    "\n",
    "    "
   ]
  },
  {
   "cell_type": "code",
   "execution_count": null,
   "metadata": {},
   "outputs": [],
   "source": [
    "plot_goodput(data)"
   ]
  }
 ],
 "metadata": {
  "kernelspec": {
   "display_name": "Python 3",
   "language": "python",
   "name": "python3"
  },
  "language_info": {
   "codemirror_mode": {
    "name": "ipython",
    "version": 3
   },
   "file_extension": ".py",
   "mimetype": "text/x-python",
   "name": "python",
   "nbconvert_exporter": "python",
   "pygments_lexer": "ipython3",
   "version": "3.9.16"
  }
 },
 "nbformat": 4,
 "nbformat_minor": 4
}
