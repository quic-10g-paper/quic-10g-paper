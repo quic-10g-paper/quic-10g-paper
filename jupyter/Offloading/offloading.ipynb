{
 "cells": [
  {
   "cell_type": "code",
   "execution_count": null,
   "metadata": {},
   "outputs": [],
   "source": [
    "%run ../Helper/Setup.ipynb"
   ]
  },
  {
   "cell_type": "code",
   "execution_count": null,
   "metadata": {},
   "outputs": [],
   "source": [
    "def import_data(path):\n",
    "    df = pd.read_csv(path)\n",
    "    return df"
   ]
  },
  {
   "cell_type": "code",
   "execution_count": null,
   "metadata": {},
   "outputs": [],
   "source": [
    "offloading_off = import_data('../../results/offloading/goracle/off/processed.csv')\n",
    "offloading_only_udp = import_data('../../results/offloading/goracle/only-udp/processed.csv')\n",
    "offloading_default = import_data('../../results/offloading/goracle/default/processed.csv')"
   ]
  },
  {
   "cell_type": "code",
   "execution_count": null,
   "metadata": {},
   "outputs": [],
   "source": [
    "offloading_off['offloading'] = 'off'\n",
    "offloading_only_udp['offloading'] = 'only-udp'\n",
    "offloading_default['offloading'] = 'default'\n",
    "\n",
    "data = pd.concat([\n",
    "    offloading_off,\n",
    "    offloading_only_udp,\n",
    "    offloading_default,\n",
    "], ignore_index=True)\n"
   ]
  },
  {
   "cell_type": "code",
   "execution_count": null,
   "metadata": {},
   "outputs": [],
   "source": [
    "def plot_goodput(df):\n",
    "\n",
    "    implementations = pd.unique(df[['server', 'client']].values.ravel('K'))\n",
    "    label = df.offloading.unique()\n",
    "    implementation_order = {\n",
    "        'lsquic': 1,\n",
    "        'quiche': 2,\n",
    "        'tcp-tls': 3\n",
    "    }\n",
    "    \n",
    "    implementations = sorted(implementations, key=lambda x: implementation_order.get(x, 1000))\n",
    "    \n",
    "    label_names = {\n",
    "        'off': \"Off\",\n",
    "        'default': \"Default\",\n",
    "        'on': \"All\",\n",
    "        'only-udp': \"GSO/GRO\"\n",
    "    }\n",
    "    \n",
    "    implementation_names = {\n",
    "        'lsquic': 'LSQUIC',\n",
    "        'quiche': 'quiche',\n",
    "        'quich': 'quiche',\n",
    "        'tcp+tls': 'TCP/TLS',\n",
    "    }\n",
    "\n",
    "        \n",
    "    colors = [ColorDarkerBlue, ColorGreen, ColorRed]\n",
    "    patterns = [\" \"] * len(colors)\n",
    "    linestyles = ['-'] * len(colors)\n",
    "    markers = ['^', 'o', 's']\n",
    "    \n",
    "    def style(i):\n",
    "        return {\n",
    "            #\"boxprops\": dict(facecolor=c, color=c),\n",
    "            \"showmeans\": True,\n",
    "            \"boxprops\": dict(color=colors[i], linestyle=linestyles[i], facecolor=\"white\"),\n",
    "            \"capprops\": dict(color=colors[i], alpha=0),\n",
    "            \"whiskerprops\": dict(alpha=0),\n",
    "            \"flierprops\": dict(color=colors[i], markeredgecolor=colors[i]),\n",
    "            #\"medianprops\": dict(color=c),\n",
    "            #\"meanprops\": dict(color=c),\n",
    "            \"medianprops\": dict(color=colors[i]),\n",
    "            \"meanprops\": dict(markerfacecolor=colors[i], markeredgecolor=colors[i], marker=markers[i]),\n",
    "            \"whis\": [5,95],\n",
    "            \"showfliers\": False,\n",
    "            \"widths\": .22,\n",
    "            \"positions\": [x - 0.3 + 0.3 * i for x in range(len(label))],\n",
    "            \"patch_artist\": True,\n",
    "        }\n",
    "    \n",
    "    width, height = set_size('single')\n",
    "    \n",
    "    fig, ax1 = plt.subplots(figsize=(width, height*0.8))\n",
    "    plot_shades(label, ax1, 0.5)\n",
    "\n",
    "    for idx, imp in enumerate(implementations):\n",
    "        \n",
    "        d = df.loc[(df.server == imp) & (df.client == imp)]\n",
    "        bp1 = ax1.boxplot([d[d.offloading == c].goodput for c in label], labels=label,\n",
    "            #hatch=patterns[0],\n",
    "            **style(idx),\n",
    "           )\n",
    "    \n",
    "    ax1.autoscale()\n",
    "    \n",
    "    ax1.set(xticks=range(len(label)), xticklabels=[label_names[c] for c in label])\n",
    "    \n",
    "    ax1.set_ylabel('Goodput [Gbit/s]')\n",
    "    ax1.set_ylim(0, 9000)\n",
    "    \n",
    "    mkfunc = lambda x, pos: f'{(x * 1e-3):.0f}'\n",
    "    mkformatter = matplotlib.ticker.FuncFormatter(mkfunc)\n",
    "    ax1.yaxis.set_major_formatter(mkformatter)\n",
    "    \n",
    "    legend_elements = [\n",
    "        # Patch(facecolor='white', edgecolor=colors[i], linestyle=linestyles[i], label=implementation_names[imp])\n",
    "        mlines.Line2D([], [], color=colors[i], marker=markers[i], linestyle='None', label=implementation_names[imp])\n",
    "        for i, imp in enumerate(implementations)\n",
    "    ]\n",
    "    \n",
    "    \n",
    "    ax1.legend(handles=legend_elements, loc=\"upper left\", ncol=1)\n",
    "    fig.tight_layout()\n",
    "    fig.savefig('offloading.pdf')\n"
   ]
  },
  {
   "cell_type": "code",
   "execution_count": null,
   "metadata": {},
   "outputs": [],
   "source": [
    "plot_goodput(data)"
   ]
  }
 ],
 "metadata": {
  "kernelspec": {
   "display_name": "Python 3",
   "language": "python",
   "name": "python3"
  },
  "language_info": {
   "codemirror_mode": {
    "name": "ipython",
    "version": 3
   },
   "file_extension": ".py",
   "mimetype": "text/x-python",
   "name": "python",
   "nbconvert_exporter": "python",
   "pygments_lexer": "ipython3",
   "version": "3.9.16"
  }
 },
 "nbformat": 4,
 "nbformat_minor": 4
}
